{
 "cells": [
  {
   "cell_type": "code",
   "execution_count": 10,
   "id": "f4b3a068",
   "metadata": {},
   "outputs": [],
   "source": [
    "# import pandas as pd\n",
    "# import numpy as np\n",
    "# import os\n",
    "# from os import path, mkdir\n",
    "# from tqdm import tqdm"
   ]
  },
  {
   "cell_type": "code",
   "execution_count": 11,
   "id": "5fd7c3bc",
   "metadata": {},
   "outputs": [
    {
     "data": {
      "text/html": [
       "<div>\n",
       "<style scoped>\n",
       "    .dataframe tbody tr th:only-of-type {\n",
       "        vertical-align: middle;\n",
       "    }\n",
       "\n",
       "    .dataframe tbody tr th {\n",
       "        vertical-align: top;\n",
       "    }\n",
       "\n",
       "    .dataframe thead th {\n",
       "        text-align: right;\n",
       "    }\n",
       "</style>\n",
       "<table border=\"1\" class=\"dataframe\">\n",
       "  <thead>\n",
       "    <tr style=\"text-align: right;\">\n",
       "      <th></th>\n",
       "      <th>person_id</th>\n",
       "      <th>org_id</th>\n",
       "      <th>label</th>\n",
       "    </tr>\n",
       "  </thead>\n",
       "  <tbody>\n",
       "    <tr>\n",
       "      <th>0</th>\n",
       "      <td>188fbe13-3fd8-4d3c-9361-6baeb0ff87c1</td>\n",
       "      <td>5c79eaa8-c73e-4bdf-ac26-b84ed2fc3643</td>\n",
       "      <td>1</td>\n",
       "    </tr>\n",
       "    <tr>\n",
       "      <th>1</th>\n",
       "      <td>dd34229b-8b28-4a27-b18e-5647f9c83c30</td>\n",
       "      <td>a53201c2-ae09-4541-bc53-18599aca8174</td>\n",
       "      <td>1</td>\n",
       "    </tr>\n",
       "    <tr>\n",
       "      <th>2</th>\n",
       "      <td>df229cac-f80c-45f3-abe1-f81a48a557b3</td>\n",
       "      <td>24a90bf3-6f7c-4d68-a844-9cef04a50bf8</td>\n",
       "      <td>1</td>\n",
       "    </tr>\n",
       "    <tr>\n",
       "      <th>3</th>\n",
       "      <td>424bae40-fc4f-4ec0-b456-497bf130686d</td>\n",
       "      <td>57445777-c073-4220-acee-83ea0f99db13</td>\n",
       "      <td>1</td>\n",
       "    </tr>\n",
       "    <tr>\n",
       "      <th>4</th>\n",
       "      <td>8caaf505-a94d-4018-b880-938f862d2ea1</td>\n",
       "      <td>3f2a08e2-610f-4dc7-b270-6da259a4a200</td>\n",
       "      <td>1</td>\n",
       "    </tr>\n",
       "  </tbody>\n",
       "</table>\n",
       "</div>"
      ],
      "text/plain": [
       "                              person_id                                org_id  \\\n",
       "0  188fbe13-3fd8-4d3c-9361-6baeb0ff87c1  5c79eaa8-c73e-4bdf-ac26-b84ed2fc3643   \n",
       "1  dd34229b-8b28-4a27-b18e-5647f9c83c30  a53201c2-ae09-4541-bc53-18599aca8174   \n",
       "2  df229cac-f80c-45f3-abe1-f81a48a557b3  24a90bf3-6f7c-4d68-a844-9cef04a50bf8   \n",
       "3  424bae40-fc4f-4ec0-b456-497bf130686d  57445777-c073-4220-acee-83ea0f99db13   \n",
       "4  8caaf505-a94d-4018-b880-938f862d2ea1  3f2a08e2-610f-4dc7-b270-6da259a4a200   \n",
       "\n",
       "   label  \n",
       "0      1  \n",
       "1      1  \n",
       "2      1  \n",
       "3      1  \n",
       "4      1  "
      ]
     },
     "execution_count": 11,
     "metadata": {},
     "output_type": "execute_result"
    }
   ],
   "source": [
    "\n",
    "# # Load the CSV file into a pandas DataFrame\n",
    "# positive_df = pd.read_csv('C:\\\\Users\\\\netac\\\\Downloads\\\\Amir\\\\MSc\\\\Thesis\\\\alpha10x\\\\\\KPAN10x\\\\KPAN_V2\\\\Data\\\\orgs_dataset\\\\train.csv')\n",
    "# positive_df.head()\n"
   ]
  },
  {
   "cell_type": "code",
   "execution_count": 12,
   "id": "e8fb4c55",
   "metadata": {},
   "outputs": [],
   "source": [
    "\n",
    "# # Filter the DataFrame to only include positive interactions (target=1)\n",
    "# positive_df = df[df['label'] == 1]\n",
    "# positive_df.head()"
   ]
  },
  {
   "cell_type": "code",
   "execution_count": 13,
   "id": "48251455",
   "metadata": {},
   "outputs": [],
   "source": [
    "\n",
    "# # Get the unique person_ids and organization_ids from the positive interactions\n",
    "# person_ids = positive_df['person_id'].unique()\n",
    "# organization_ids = positive_df['org_id'].unique()\n"
   ]
  },
  {
   "cell_type": "code",
   "execution_count": 14,
   "id": "2ce9b4e1",
   "metadata": {},
   "outputs": [
    {
     "name": "stderr",
     "output_type": "stream",
     "text": [
      "Generating negative pairs: 100%|██████████| 12220/12220 [01:02<00:00, 196.94it/s]\n"
     ]
    }
   ],
   "source": [
    "# # Generate negative pairs by randomly sampling pairs that don't already exist in the positive interactions\n",
    "# negative_pairs = []\n",
    "# num_negative_pairs = int(len(positive_df) * 0.3)\n",
    "# pbar = tqdm(total=num_negative_pairs, desc='Generating negative pairs')\n",
    "# while len(negative_pairs) < num_negative_pairs:\n",
    "#     person_id = np.random.choice(person_ids)\n",
    "#     organization_id = np.random.choice(organization_ids)\n",
    "#     if not ((positive_df['person_id'] == person_id) & (positive_df['org_id'] == organization_id)).any():\n",
    "#         negative_pairs.append((person_id, organization_id))\n",
    "#         pbar.update(1)\n",
    "# pbar.close()\n"
   ]
  },
  {
   "cell_type": "code",
   "execution_count": 15,
   "id": "f8cfe581",
   "metadata": {},
   "outputs": [],
   "source": [
    "\n",
    "# # Concatenate the positive and negative pairs into a new DataFrame\n",
    "# new_df = pd.concat([positive_df, pd.DataFrame(negative_pairs, columns=['person_id', 'org_id']).assign(label=0)])\n"
   ]
  },
  {
   "cell_type": "code",
   "execution_count": 16,
   "id": "1df267bb",
   "metadata": {},
   "outputs": [],
   "source": [
    "\n",
    "# # Shuffle the new DataFrame\n",
    "# new_df = new_df.sample(frac=1)\n"
   ]
  },
  {
   "cell_type": "code",
   "execution_count": 3,
   "id": "bc40b81a",
   "metadata": {},
   "outputs": [
    {
     "ename": "NameError",
     "evalue": "name 'new_df' is not defined",
     "output_type": "error",
     "traceback": [
      "\u001b[1;31m---------------------------------------------------------------------------\u001b[0m",
      "\u001b[1;31mNameError\u001b[0m                                 Traceback (most recent call last)",
      "\u001b[1;32m~\\AppData\\Local\\Temp\\ipykernel_21256\\2812620023.py\u001b[0m in \u001b[0;36m<module>\u001b[1;34m\u001b[0m\n\u001b[0;32m      1\u001b[0m \u001b[1;31m# Save the new DataFrame to a CSV file\u001b[0m\u001b[1;33m\u001b[0m\u001b[1;33m\u001b[0m\u001b[0m\n\u001b[1;32m----> 2\u001b[1;33m \u001b[0mnew_df\u001b[0m\u001b[1;33m.\u001b[0m\u001b[0mto_csv\u001b[0m\u001b[1;33m(\u001b[0m\u001b[1;34m'C:\\\\Users\\\\netac\\\\Downloads\\\\Amir\\\\MSc\\\\Thesis\\\\alpha10x\\\\\\KPAN10x\\\\KPAN_V2\\\\Data\\\\orgs_dataset\\\\train.csv'\u001b[0m\u001b[1;33m,\u001b[0m \u001b[0mindex\u001b[0m\u001b[1;33m=\u001b[0m\u001b[1;32mFalse\u001b[0m\u001b[1;33m)\u001b[0m\u001b[1;33m\u001b[0m\u001b[1;33m\u001b[0m\u001b[0m\n\u001b[0m",
      "\u001b[1;31mNameError\u001b[0m: name 'new_df' is not defined"
     ]
    }
   ],
   "source": [
    "\n",
    "# Save the new DataFrame to a CSV file\n",
    "new_df.to_csv('C:\\\\Users\\\\netac\\\\Downloads\\\\Amir\\\\MSc\\\\Thesis\\\\alpha10x\\\\\\KPAN10x\\\\KPAN_V2\\\\Data\\\\orgs_dataset\\\\train.csv', index=False)"
   ]
  },
  {
   "cell_type": "markdown",
   "id": "0d2c8fb3",
   "metadata": {},
   "source": [
    "## Smaller dataset for running fast"
   ]
  },
  {
   "cell_type": "code",
   "execution_count": 9,
   "id": "382d0071",
   "metadata": {},
   "outputs": [],
   "source": [
    "import pandas as pd\n",
    "import numpy as np"
   ]
  },
  {
   "cell_type": "code",
   "execution_count": 10,
   "id": "00eac29f",
   "metadata": {},
   "outputs": [
    {
     "data": {
      "text/html": [
       "<div>\n",
       "<style scoped>\n",
       "    .dataframe tbody tr th:only-of-type {\n",
       "        vertical-align: middle;\n",
       "    }\n",
       "\n",
       "    .dataframe tbody tr th {\n",
       "        vertical-align: top;\n",
       "    }\n",
       "\n",
       "    .dataframe thead th {\n",
       "        text-align: right;\n",
       "    }\n",
       "</style>\n",
       "<table border=\"1\" class=\"dataframe\">\n",
       "  <thead>\n",
       "    <tr style=\"text-align: right;\">\n",
       "      <th></th>\n",
       "      <th>person_id</th>\n",
       "      <th>org_id</th>\n",
       "      <th>label</th>\n",
       "    </tr>\n",
       "  </thead>\n",
       "  <tbody>\n",
       "    <tr>\n",
       "      <th>0</th>\n",
       "      <td>062cbdb3-67d0-447f-a919-1b3c9cf6b2f8</td>\n",
       "      <td>24d60616-1561-4627-ba80-cc5196b2f6f6</td>\n",
       "      <td>1</td>\n",
       "    </tr>\n",
       "    <tr>\n",
       "      <th>1</th>\n",
       "      <td>55a49f8f-43a6-40bf-993b-0ef799b0eb32</td>\n",
       "      <td>62eb687a-0eee-4dac-9ad0-3801106220f1</td>\n",
       "      <td>1</td>\n",
       "    </tr>\n",
       "    <tr>\n",
       "      <th>2</th>\n",
       "      <td>9405e5e6-1a8f-4259-b3ca-0ebc55a55653</td>\n",
       "      <td>0b1eeb69-1632-4999-9a6c-f2a5a9e92f8f</td>\n",
       "      <td>0</td>\n",
       "    </tr>\n",
       "    <tr>\n",
       "      <th>3</th>\n",
       "      <td>7ab3fc79-fd74-4ec6-8cfc-fc372f9de6ad</td>\n",
       "      <td>0001b479-06c3-4904-8dfb-f61951a6d2f9</td>\n",
       "      <td>1</td>\n",
       "    </tr>\n",
       "    <tr>\n",
       "      <th>4</th>\n",
       "      <td>2bd2c5ef-cae4-4c71-a8ca-6d082d70b75e</td>\n",
       "      <td>1ca2f36e-fc0e-4f56-87e3-e468599fd455</td>\n",
       "      <td>1</td>\n",
       "    </tr>\n",
       "  </tbody>\n",
       "</table>\n",
       "</div>"
      ],
      "text/plain": [
       "                              person_id                                org_id  \\\n",
       "0  062cbdb3-67d0-447f-a919-1b3c9cf6b2f8  24d60616-1561-4627-ba80-cc5196b2f6f6   \n",
       "1  55a49f8f-43a6-40bf-993b-0ef799b0eb32  62eb687a-0eee-4dac-9ad0-3801106220f1   \n",
       "2  9405e5e6-1a8f-4259-b3ca-0ebc55a55653  0b1eeb69-1632-4999-9a6c-f2a5a9e92f8f   \n",
       "3  7ab3fc79-fd74-4ec6-8cfc-fc372f9de6ad  0001b479-06c3-4904-8dfb-f61951a6d2f9   \n",
       "4  2bd2c5ef-cae4-4c71-a8ca-6d082d70b75e  1ca2f36e-fc0e-4f56-87e3-e468599fd455   \n",
       "\n",
       "   label  \n",
       "0      1  \n",
       "1      1  \n",
       "2      0  \n",
       "3      1  \n",
       "4      1  "
      ]
     },
     "execution_count": 10,
     "metadata": {},
     "output_type": "execute_result"
    }
   ],
   "source": [
    "# Load the CSV file into a pandas DataFrame\n",
    "long_df = pd.read_csv('C:\\\\Users\\\\netac\\\\Downloads\\\\Amir\\\\MSc\\\\Thesis\\\\alpha10x\\\\\\KPAN10x\\\\KPAN_V2\\\\Data\\\\orgs_dataset\\\\train.csv')\n",
    "long_df.head()"
   ]
  },
  {
   "cell_type": "code",
   "execution_count": 11,
   "id": "e39ddd40",
   "metadata": {},
   "outputs": [],
   "source": [
    "negative_long_df = long_df[long_df['label'] == 0]\n",
    "positive_long_df = long_df[long_df['label'] == 1]"
   ]
  },
  {
   "cell_type": "code",
   "execution_count": 12,
   "id": "dfa2e6b4",
   "metadata": {},
   "outputs": [],
   "source": [
    "# randomly sample 1.5K entries from each of the negative and positive dataframes\n",
    "np.random.seed(42)\n",
    "negative_sample = negative_long_df.sample(n=3200)\n",
    "positive_sample = positive_long_df.sample(n=7000)\n"
   ]
  },
  {
   "cell_type": "code",
   "execution_count": 13,
   "id": "fb8cbd3d",
   "metadata": {},
   "outputs": [],
   "source": [
    "# combine the sampled dataframes into a single dataframe\n",
    "short_df = pd.concat([negative_sample, positive_sample], axis=0)"
   ]
  },
  {
   "cell_type": "code",
   "execution_count": 14,
   "id": "7c3ae1e3",
   "metadata": {},
   "outputs": [],
   "source": [
    "# shuffle the order of the rows in the sampled dataframe\n",
    "short_df = short_df.sample(frac=1, random_state=42)"
   ]
  },
  {
   "cell_type": "code",
   "execution_count": 15,
   "id": "7d95d84d",
   "metadata": {},
   "outputs": [],
   "source": [
    "# export the sampled dataframe to a new csv file\n",
    "# Save the new DataFrame to a CSV file\n",
    "short_df.to_csv('C:\\\\Users\\\\netac\\\\Downloads\\\\Amir\\\\MSc\\\\Thesis\\\\alpha10x\\\\\\KPAN10x\\\\KPAN_V2\\\\Data\\\\orgs_dataset\\\\short_train.csv', index=False)"
   ]
  }
 ],
 "metadata": {
  "kernelspec": {
   "display_name": "Python 3 (ipykernel)",
   "language": "python",
   "name": "python3"
  },
  "language_info": {
   "codemirror_mode": {
    "name": "ipython",
    "version": 3
   },
   "file_extension": ".py",
   "mimetype": "text/x-python",
   "name": "python",
   "nbconvert_exporter": "python",
   "pygments_lexer": "ipython3",
   "version": "3.9.13"
  }
 },
 "nbformat": 4,
 "nbformat_minor": 5
}
